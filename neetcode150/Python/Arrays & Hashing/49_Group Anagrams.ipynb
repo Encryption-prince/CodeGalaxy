{
 "cells": [
  {
   "cell_type": "markdown",
   "metadata": {},
   "source": [
    "### Group Anagrams\n",
    "\n",
    "Given an array of strings `strs`, **group the anagrams** together. You can return the answer in any order.\n",
    "\n",
    "<br>\n",
    "\n",
    "**Example 1:**  \n",
    "> **Input:** strs = [\"eat\",\"tea\",\"tan\",\"ate\",\"nat\",\"bat\"]  \n",
    "> **Output:** [[\"bat\"],[\"nat\",\"tan\"],[\"ate\",\"eat\",\"tea\"]]\n",
    "\n",
    "<br>\n",
    "\n",
    "**Example 2:**  \n",
    "> **Input:** strs = [\"\"]  \n",
    "> **Output:** [[\"\"]]\n",
    "\n",
    "<br>\n",
    "\n",
    "**Example 3:**  \n",
    "> **Input:** strs = [\"a\"]  \n",
    "> **Output:** [[\"a\"]]\n"
   ]
  },
  {
   "cell_type": "code",
   "execution_count": null,
   "metadata": {},
   "outputs": [],
   "source": [
    "\"\"\"\n",
    "We know the problem needs a HashMap.\n",
    "Soution 1: Using sorted() which has a time complexity of O(nlogn)\n",
    "\"\"\"\n",
    "\n",
    "from collections import defaultdict\n",
    "\n",
    "class Solution:\n",
    "    def groupAnagrams(self, strs: list[str]) -> list[list[str]]:\n",
    "        anagrams = defaultdict(list)\n",
    "\n",
    "        for s in strs:\n",
    "            s_sorted = ''.join(sorted(s))\n",
    "            anagrams[s_sorted].append(s)\n",
    "        \n",
    "        return anagrams.values()"
   ]
  },
  {
   "cell_type": "markdown",
   "metadata": {},
   "source": [
    "> Time Complexity: $O(n^2 \\log n)$  "
   ]
  },
  {
   "cell_type": "code",
   "execution_count": null,
   "metadata": {},
   "outputs": [],
   "source": [
    "\"\"\"\n",
    "Best Solution\n",
    "\"\"\"\n",
    "\n",
    "from collections import defaultdict\n",
    "\n",
    "class Solution:\n",
    "    def groupAnagrams(self, strs: list[str]) -> list[list[str]]:\n",
    "        anagrams = defaultdict(list)\n",
    "\n",
    "        for s in strs:\n",
    "            count = [0]*26\n",
    "            for c in s:\n",
    "                count[ord(c) - ord(\"a\")] += 1\n",
    "            \n",
    "            anagrams[tuple(count)].append(s)\n",
    "            \n",
    "        return anagrams.values()"
   ]
  },
  {
   "cell_type": "markdown",
   "metadata": {},
   "source": [
    "> Time Complexity: $O(n^2)$  \n",
    "<br>  \n",
    "> Runtime: 83 ms &nbsp;&nbsp; Beats **96.51%**  \n",
    "> Memory: 23.1 mb &nbsp;&nbsp; Beats **5.48%**"
   ]
  }
 ],
 "metadata": {
  "language_info": {
   "name": "python"
  }
 },
 "nbformat": 4,
 "nbformat_minor": 2
}
