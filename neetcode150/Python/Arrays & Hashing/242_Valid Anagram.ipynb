{
 "cells": [
  {
   "cell_type": "markdown",
   "metadata": {},
   "source": [
    "### 242. Valid Anagram\n",
    "\n",
    "Given two strings `s` and `t`, return `true` if `t` is an anagram of `s`, and `false` otherwise.\n",
    "\n",
    "**Example 1:**  \n",
    "> &nbsp;&nbsp; **Input**: s = \"anagram\", t = \"nagaram\"  \n",
    "> &nbsp;&nbsp; **Output**: true\n",
    "\n",
    "**Example 2:**  \n",
    "> &nbsp;&nbsp;**Input**: s = \"rat\", t = \"car\"  \n",
    "> &nbsp;&nbsp;**Output**: false\n"
   ]
  },
  {
   "cell_type": "code",
   "execution_count": null,
   "metadata": {},
   "outputs": [],
   "source": [
    "\"\"\"\n",
    "The one liner solution is...\n",
    "\"\"\"\n",
    "\n",
    "from collections import Counter\n",
    "\n",
    "class Solution:\n",
    "    def isAnagram(self, s: str, t: str) -> bool:\n",
    "        return Counter(s) == Counter(t)\n",
    "\n",
    "\n",
    "\"\"\"\n",
    "But come on...it's Leetcode\n",
    "\"\"\""
   ]
  },
  {
   "cell_type": "code",
   "execution_count": null,
   "metadata": {},
   "outputs": [],
   "source": [
    "\"\"\"\n",
    "Better Solution\n",
    "\n",
    "Sorting the array. Then iterate and compare. Sort has a time complexity of O(nlogn) and iteration has a complexity of O(n).\n",
    "\"\"\"\n",
    "\n",
    "class Solution:\n",
    "    def isAnagram(self, s: str, t: str) -> bool:\n",
    "        if len(s) != len(t):\n",
    "            return False\n",
    "        \n",
    "        s = sorted(s)\n",
    "        t = sorted(t)\n",
    "\n",
    "        for i in range(len(s)):\n",
    "            if s[i] != t[i]:\n",
    "                return False\n",
    "\n",
    "        return True\n",
    "\n"
   ]
  },
  {
   "cell_type": "markdown",
   "metadata": {},
   "source": [
    "> Time Complexity: $O(n \\log n)$  \n",
    "> Space Complexity: $O(1)$"
   ]
  },
  {
   "cell_type": "code",
   "execution_count": null,
   "metadata": {},
   "outputs": [],
   "source": [
    "\"\"\"\n",
    "Best Solution\n",
    "\n",
    "Using a HashTable (dict).\n",
    "\"\"\"\n",
    "\n",
    "class Solution:\n",
    "    def isAnagram(self, s: str, t: str) -> bool:\n",
    "        if len(s) != len(t):\n",
    "            return False\n",
    "            \n",
    "        freq = {}\n",
    "        for c in s:\n",
    "            if c in freq.keys():\n",
    "                freq[c] += 1\n",
    "            else:\n",
    "                freq[c] = 1\n",
    "        \n",
    "        for c in t:\n",
    "            if c in freq.keys():\n",
    "                if freq[c]==0:\n",
    "                    return False\n",
    "                freq[c] -= 1\n",
    "            else:\n",
    "                return False\n",
    "        \n",
    "        return True"
   ]
  },
  {
   "cell_type": "markdown",
   "metadata": {},
   "source": [
    "> Time Complexity: $O(n)$  \n",
    "> Space Complexity: $O(n)$\n",
    "<br>  \n",
    "> Runtime: 44 ms &nbsp;&nbsp; Beats **89.83%**  \n",
    "> Memory: 17.8 mb &nbsp;&nbsp; Beats **13.5%**"
   ]
  },
  {
   "cell_type": "markdown",
   "metadata": {},
   "source": []
  }
 ],
 "metadata": {
  "language_info": {
   "name": "python"
  }
 },
 "nbformat": 4,
 "nbformat_minor": 2
}
