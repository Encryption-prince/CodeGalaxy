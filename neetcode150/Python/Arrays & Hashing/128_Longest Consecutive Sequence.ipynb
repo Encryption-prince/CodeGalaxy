{
 "cells": [
  {
   "cell_type": "markdown",
   "metadata": {},
   "source": [
    "### 128. Longest Consecutive Sequence\n",
    "\n",
    "Given an unsorted array of integers `nums`, return the length of the longest consecutive elements sequence.\n",
    "\n",
    "You must write an algorithm that runs in `O(n)` time.\n",
    "\n",
    "**Example 1:**  \n",
    "> **Input:** nums = [100,4,200,1,3,2]  \n",
    "> **Output:** 4  \n",
    "> **Explanation:** The longest consecutive elements sequence is [1, 2, 3, 4]. Therefore its length is 4.  \n",
    "\n",
    "<br>\n",
    "\n",
    "**Example 2:**  \n",
    "> **Input:** nums = [0,3,7,2,5,8,4,6,0,1]  \n",
    "> **Output:** 9  \n"
   ]
  },
  {
   "cell_type": "code",
   "execution_count": null,
   "metadata": {},
   "outputs": [],
   "source": [
    "class Solution:\n",
    "    def longestConsecutive(self, nums: list[int]) -> int:\n",
    "        nums = set(nums)\n",
    "        longest = 0\n",
    "        for num in nums:\n",
    "            if num-1 not in nums:\n",
    "                curr_longest = 1\n",
    "                for i in range(1, len(nums)):\n",
    "                    if num+i in nums:\n",
    "                        curr_longest+=1\n",
    "                    else:\n",
    "                        break\n",
    "                if curr_longest == len(nums):\n",
    "                    return curr_longest\n",
    "                if curr_longest > longest:\n",
    "                    longest = curr_longest\n",
    "        \n",
    "        return longest"
   ]
  },
  {
   "cell_type": "markdown",
   "metadata": {},
   "source": [
    "> Time Complexity: $O(n)$  \n",
    "> Space Complexity: $O(n)$\n",
    "<br>  \n",
    "> Runtime: 338 ms &nbsp;&nbsp; Beats **97.8%**  \n",
    "> Memory: 32.6 mb &nbsp;&nbsp; Beats **38.92%**"
   ]
  },
  {
   "cell_type": "markdown",
   "metadata": {},
   "source": []
  }
 ],
 "metadata": {
  "language_info": {
   "name": "python"
  }
 },
 "nbformat": 4,
 "nbformat_minor": 2
}
