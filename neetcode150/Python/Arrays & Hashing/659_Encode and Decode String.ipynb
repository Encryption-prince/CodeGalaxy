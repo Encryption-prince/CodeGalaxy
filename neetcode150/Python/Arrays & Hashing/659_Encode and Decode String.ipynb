{
 "cells": [
  {
   "cell_type": "markdown",
   "metadata": {},
   "source": [
    "### 659. Encode and Decode String\n",
    "\n",
    "Design an algorithm to encode a list of strings to a string. The encoded string is then sent over the network and is decoded back to the original list of strings.\n",
    "\n",
    "Please implement `encode` and `decode`.  \n",
    "<br>  \n",
    "**Example 1:**  \n",
    "> **Input:** [\"lint\",\"code\",\"love\",\"you\"]  \n",
    "> **Output:** [\"lint\",\"code\",\"love\",\"you\"]  \n",
    "> **Explanation:** One possible encode method is: \"lint:;code:;love:;you\"\n",
    "\n",
    "<br>\n",
    "\n",
    "**Example 2:**  \n",
    "> **Input:** [\"we\", \"say\", \":\", \"yes\"]  \n",
    "> **Output:** [\"we\", \"say\", \":\", \"yes\"]  \n",
    "> **Explanation:** One possible encode method is: \"we:;say:;:::;yes\""
   ]
  },
  {
   "cell_type": "code",
   "execution_count": null,
   "metadata": {},
   "outputs": [],
   "source": [
    "class Solution:\n",
    "    def encode(self, arr: list[str]) -> str:\n",
    "        res = ''\n",
    "        \n",
    "        for s in arr:\n",
    "            encoded = arr(len(s)) + '/' + s\n",
    "            res += encoded\n",
    "\n",
    "        return res\n",
    "\n",
    "    def decode(self, string: str) -> list[str]:\n",
    "        res, i = [], 0\n",
    "\n",
    "        while i < len(string):\n",
    "            e = i\n",
    "            while e < len(string) and string[e] != '/':\n",
    "                e += 1\n",
    "            size = int(string[i:e])\n",
    "            word = string[e + 1, e + 1 + size]\n",
    "            i = e + 1 + size\n",
    "            res.append(word)\n",
    "\n",
    "        return res"
   ]
  },
  {
   "cell_type": "markdown",
   "metadata": {},
   "source": [
    "> Time Complexity: $O(n)$"
   ]
  }
 ],
 "metadata": {
  "language_info": {
   "name": "python"
  }
 },
 "nbformat": 4,
 "nbformat_minor": 2
}
