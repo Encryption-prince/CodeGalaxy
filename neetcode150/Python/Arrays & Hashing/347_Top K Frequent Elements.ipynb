{
 "cells": [
  {
   "cell_type": "markdown",
   "metadata": {},
   "source": [
    "### 347. Top K Frequent Elements\n",
    "\n",
    "Given an integer array `nums` and an integer `k`, return the *`k` most frequent elements*. You may return the answer in any order.\n",
    "\n",
    "<br>\n",
    "\n",
    "**Example 1:**  \n",
    "> **Input:** nums = [1,1,1,2,2,3], k = 2  \n",
    "> **Output:** [1,2]\n",
    "\n",
    "<br>\n",
    "\n",
    "**Example 2:**  \n",
    "> **Input:** nums = [1], k = 1  \n",
    "> **Output:** [1]\n"
   ]
  },
  {
   "cell_type": "markdown",
   "metadata": {},
   "source": [
    "To achive solution in linear time, we will implement a Bucket Sort.\n",
    "\n",
    "1. Create a `HashMap` for the frequency of characters.\n",
    "2. Create an array where *index are the frequency*, and *append nums with same frequency to the same index*. This would create an array where the *most frequent elements are to the end* of the list.\n",
    "3. *Return* `k` elements *from the end of the array*."
   ]
  },
  {
   "cell_type": "code",
   "execution_count": null,
   "metadata": {},
   "outputs": [],
   "source": [
    "class Solution:\n",
    "    def topKFrequent(self, nums: list[int], k: int) -> list[int]:\n",
    "        hash_map = {}\n",
    "\n",
    "        for num in nums:\n",
    "            hash_map[num] = 1 + hash_map.get(num, 0)\n",
    "        \n",
    "        counts = [[] for _ in range(len(nums))]\n",
    "        last_indx = 0\n",
    "\n",
    "        for num, freq in hash_map.items():\n",
    "            counts[freq-1].append(num)\n",
    "            if freq-1 > last_indx:\n",
    "                last_indx = freq-1\n",
    "\n",
    "        res = []\n",
    "        while k>0:\n",
    "            res.extend(counts[last_indx])\n",
    "            k-=len(counts[last_indx])\n",
    "            last_indx-=1\n",
    "\n",
    "        return res"
   ]
  },
  {
   "cell_type": "markdown",
   "metadata": {},
   "source": [
    "> Time Complexity: $O(n)$  \n",
    "<br>  \n",
    "> Runtime: 74 ms &nbsp;&nbsp; Beats **99.82%**  \n",
    "> Memory: 22.9 mb &nbsp;&nbsp; Beats **7.23%**"
   ]
  },
  {
   "cell_type": "markdown",
   "metadata": {},
   "source": []
  }
 ],
 "metadata": {
  "language_info": {
   "name": "python"
  }
 },
 "nbformat": 4,
 "nbformat_minor": 2
}
