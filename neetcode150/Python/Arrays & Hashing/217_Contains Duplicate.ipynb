{
 "cells": [
  {
   "cell_type": "markdown",
   "metadata": {},
   "source": [
    "### 217. Contains Duplicate\n",
    "\n",
    "Given an integer array `nums`, return `true` if any value appears at least twice in the array, and return `false` if every element is distinct.\n",
    "\n",
    "**Example 1:**\n",
    "> &nbsp;&nbsp; **Input: nums** = [1,2,3,1]  \n",
    "> &nbsp;&nbsp; **Output: true**\n",
    "\n",
    "**Example 2:**\n",
    "> &nbsp;&nbsp; **Input: nums = [1,2,3,4]**  \n",
    "> &nbsp;&nbsp; **Output: false**\n",
    "\n",
    "\n",
    "**Example 3:**\n",
    "> &nbsp;&nbsp; **Input: nums = [1,1,1,3,3,4,3,2,4,2]**  \n",
    "> &nbsp;&nbsp; **Output: true**\n"
   ]
  },
  {
   "cell_type": "code",
   "execution_count": 1,
   "metadata": {},
   "outputs": [],
   "source": [
    "\"\"\"\n",
    "Naive Solution\n",
    "\n",
    "Brute Force and check every pair\n",
    "\"\"\"\n",
    "\n",
    "class Solution:\n",
    "    def containsDuplicate(self, nums: list[int]) -> bool:\n",
    "        for i in range(len(nums)):\n",
    "            for j in range(i, len(nums)):\n",
    "                if nums[i] == nums[j]:\n",
    "                    return True\n",
    "        return False"
   ]
  },
  {
   "cell_type": "markdown",
   "metadata": {},
   "source": [
    "> Time Complexity: $O(n^2)$  \n",
    "> Space Complexity: $O(1)$"
   ]
  },
  {
   "cell_type": "code",
   "execution_count": null,
   "metadata": {},
   "outputs": [],
   "source": [
    "\"\"\"\n",
    "Better Solution\n",
    "\n",
    "First sorts the array in O(nlogn) and iterates over the array in O(n).\n",
    "\"\"\"\n",
    "\n",
    "class Solution:\n",
    "    def containsDuplicate(self, nums: list[int]) -> bool:\n",
    "        nums.sort()\n",
    "        for i in range(len(nums-1)):\n",
    "            if nums[i] == nums[i+1]:\n",
    "                return True\n",
    "        return False"
   ]
  },
  {
   "cell_type": "markdown",
   "metadata": {},
   "source": [
    "> Time Complexity: $O(n\\log n)$  \n",
    "> Space Complexity: $O(1)$"
   ]
  },
  {
   "cell_type": "code",
   "execution_count": null,
   "metadata": {},
   "outputs": [],
   "source": [
    "\"\"\"\n",
    "Best Solution\n",
    "\n",
    "Uses a HashSet. Compromises on space\n",
    "\"\"\"\n",
    "\n",
    "class Solution:\n",
    "    def containsDuplicate(self, nums: list[int]) -> bool:\n",
    "        freq = set()\n",
    "        for n in nums:\n",
    "            if n in freq:\n",
    "                return True\n",
    "            else:\n",
    "                freq.add(n)\n",
    "        else:\n",
    "            return False"
   ]
  },
  {
   "cell_type": "markdown",
   "metadata": {},
   "source": [
    "> Time Complexity: $O(n)$  \n",
    "> Space Complexity: $O(n)$\n",
    "<br>  \n",
    "> Runtime: 405 ms &nbsp;&nbsp; Beats **99.6%**  \n",
    "> Memory: 33 mb &nbsp;&nbsp; Beats **24.38%**\n"
   ]
  },
  {
   "cell_type": "markdown",
   "metadata": {},
   "source": []
  }
 ],
 "metadata": {
  "kernelspec": {
   "display_name": "Python 3",
   "language": "python",
   "name": "python3"
  },
  "language_info": {
   "codemirror_mode": {
    "name": "ipython",
    "version": 3
   },
   "file_extension": ".py",
   "mimetype": "text/x-python",
   "name": "python",
   "nbconvert_exporter": "python",
   "pygments_lexer": "ipython3",
   "version": "3.10.7"
  }
 },
 "nbformat": 4,
 "nbformat_minor": 2
}
