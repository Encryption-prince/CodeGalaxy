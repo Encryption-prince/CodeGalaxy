{
 "cells": [
  {
   "cell_type": "markdown",
   "metadata": {},
   "source": [
    "### 1. Two Sum\n",
    "\n",
    "Given an array of integers `nums` and an integer `target`, return *indices of the two numbers such that they add up to `target`*.\n",
    "\n",
    "You may assume that each input would have **exactly one solution**, and you may *not use the same element twice*.\n",
    "\n",
    "You can return the answer in any order.\n",
    "\n",
    "<br>\n",
    "\n",
    "**Example 1:**  \n",
    "> &nbsp;&nbsp; **Input**: nums = [2,7,11,15], target = 9  \n",
    "> &nbsp;&nbsp; **Output**: [0,1]  \n",
    "> &nbsp;&nbsp; **Explanation**: Because nums[0] + nums[1] == 9, we return [0, 1].\n",
    "\n",
    "<br>\n",
    "\n",
    "**Example 2:**  \n",
    "> &nbsp;&nbsp; **Input**: nums = [3,2,4], target = 6  \n",
    "> &nbsp;&nbsp; **Output**: [1,2]  \n",
    "\n",
    "<br>\n",
    "\n",
    "**Example 3:**  \n",
    "> &nbsp;&nbsp; **Input:** nums = [3,3], target = 6  \n",
    "> &nbsp;&nbsp; **Output:** [0,1]\n"
   ]
  },
  {
   "cell_type": "code",
   "execution_count": null,
   "metadata": {},
   "outputs": [],
   "source": [
    "\"\"\"\n",
    "Naive Solution\n",
    "\n",
    "Iterting over every pair\n",
    "\"\"\"\n",
    "\n",
    "class Solution:\n",
    "    def twoSum(self, nums: list[int], target: int) -> list[int]:\n",
    "        for i in range(len(nums)):\n",
    "            for j in range(i, len(nums)):\n",
    "                if nums[i]+nums[j]==target:\n",
    "                    return i, j"
   ]
  },
  {
   "cell_type": "markdown",
   "metadata": {},
   "source": [
    "> Time Complexity: $O(n^2)$  \n",
    "> Space Complexity: $O(1)$"
   ]
  },
  {
   "cell_type": "code",
   "execution_count": null,
   "metadata": {},
   "outputs": [],
   "source": [
    "\"\"\"\n",
    "Best Solution\n",
    "\n",
    "Using a HashMap\n",
    "\"\"\"\n",
    "\n",
    "class Solution:\n",
    "    def twoSum(self, nums: list[int], target: int) -> list[int]:\n",
    "        hash_map = {}\n",
    "        for i, num in enumerate(nums):\n",
    "            if target-num in hash_map:\n",
    "                return i, hash_map[target-num]\n",
    "            hash_map[num] = i"
   ]
  },
  {
   "cell_type": "markdown",
   "metadata": {},
   "source": [
    "> Time Complexity: $O(n)$  \n",
    "> Space Complexity: $O(n)$\n",
    "<br>  \n",
    "> Runtime: 56 ms &nbsp;&nbsp; Beats **92.6%**  \n",
    "> Memory: 15.3 mb &nbsp;&nbsp; Beats **100%**"
   ]
  },
  {
   "cell_type": "markdown",
   "metadata": {},
   "source": []
  }
 ],
 "metadata": {
  "language_info": {
   "name": "python"
  }
 },
 "nbformat": 4,
 "nbformat_minor": 2
}
