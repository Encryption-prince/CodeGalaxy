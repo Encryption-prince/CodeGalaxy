{
 "cells": [
  {
   "cell_type": "markdown",
   "metadata": {},
   "source": [
    "### 238. Product of Array Except Self\n",
    "\n",
    "Given an integer array `nums`, return an array `answer` such that `answer[i]` *is equal to the product of all the elements of* `nums` *except* `nums[i]`.\n",
    "\n",
    "The product of any prefix or suffix of nums is guaranteed to fit in a 32-bit integer.\n",
    "\n",
    "You must write an algorithm that runs in O(n) time and without using the division operation.\n",
    "\n",
    "<br>\n",
    "\n",
    "**Example 1:**  \n",
    "> **Input:** nums = [1,2,3,4]  \n",
    "> **Output:** [24,12,8,6]\n",
    "\n",
    "<br>\n",
    "\n",
    "**Example 2:**  \n",
    "> **Input:** nums = [-1,1,0,-3,3]  \n",
    "> **Output:** [0,0,9,0,0]\n",
    "\n",
    " "
   ]
  },
  {
   "cell_type": "code",
   "execution_count": null,
   "metadata": {},
   "outputs": [],
   "source": [
    "\"\"\"\n",
    "First approch is to create two lists having prefix product and postfix product.\n",
    "\"\"\"\n",
    "\n",
    "class Solution:\n",
    "    def productExceptSelf(self, nums: list[int]) -> list[int]:\n",
    "        p = 1\n",
    "        pre_product = []\n",
    "        for num in nums:\n",
    "            p*=num\n",
    "            pre_product.append(p)\n",
    "\n",
    "        p=1\n",
    "        post_product = []\n",
    "        for num in nums[::-1]:\n",
    "            p*=num\n",
    "            post_product.insert(0, p)\n",
    "\n",
    "        res = []\n",
    "        for i in range(len(nums)):\n",
    "            if i == 0:\n",
    "                res.append(post_product[i+1])\n",
    "            elif i == len(nums)-1:\n",
    "                res.append(pre_product[i-1])\n",
    "            else:\n",
    "                res.append(pre_product[i-1] * post_product[i+1])\n",
    "        \n",
    "        return res"
   ]
  },
  {
   "cell_type": "markdown",
   "metadata": {},
   "source": [
    "> Time Complexity: $O(n)$  \n",
    "> Space Complexity: $O(n)$"
   ]
  },
  {
   "cell_type": "code",
   "execution_count": null,
   "metadata": {},
   "outputs": [],
   "source": [
    "\"\"\"\n",
    "We do the same as above but we dont make two separate lists for prefix and postfix product. Instead we do two passes, one from the front and one from the begining.\n",
    "This would reduce space to O(1).\n",
    "\"\"\"\n",
    "\n",
    "class Solution:\n",
    "    def productExceptSelf(self, nums: list[int]) -> list[int]:\n",
    "        p = 1\n",
    "        res = [1] * len(nums)\n",
    "        for i in range(len(nums)-1):\n",
    "            p*=nums[i]\n",
    "            res[i+1] = p\n",
    "        \n",
    "        p = 1\n",
    "        for i in range(len(nums)-1, 0, -1):\n",
    "            p*=nums[i]\n",
    "            res[i-1]*=p\n",
    "\n",
    "        return res"
   ]
  },
  {
   "cell_type": "markdown",
   "metadata": {},
   "source": [
    "> Time Complexity: $O(n)$  \n",
    "> Space Complexity: $O(1)$\n",
    "<br>  \n",
    "> Runtime: 160 ms &nbsp;&nbsp; Beats **97.69%**  \n",
    "> Memory: 24.54 mb &nbsp;&nbsp; Beats **43.5%**"
   ]
  },
  {
   "cell_type": "markdown",
   "metadata": {},
   "source": []
  }
 ],
 "metadata": {
  "language_info": {
   "name": "python"
  }
 },
 "nbformat": 4,
 "nbformat_minor": 2
}
