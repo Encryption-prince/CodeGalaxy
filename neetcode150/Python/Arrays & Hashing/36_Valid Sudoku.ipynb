{
 "cells": [
  {
   "cell_type": "markdown",
   "metadata": {},
   "source": [
    "### 36. Valid Sudoku\n",
    "\n",
    "Determine if a `9 x 9` Sudoku board is valid. Only the filled cells need to be validated according to the following rules:\n",
    "\n",
    "1. Each row must contain the digits `1-9` without repetition.\n",
    "2. Each column must contain the digits `1-9` without repetition.\n",
    "3. Each of the nine `3 x 3` sub-boxes of the grid must contain the digits `1-9` without repetition.\n",
    "\n",
    "Note:  \n",
    "- A Sudoku board (partially filled) could be valid but is not necessarily solvable.\n",
    "- Only the filled cells need to be validated according to the mentioned rules.\n",
    "\n",
    "**Example:**  \n",
    "> **Input:** board =  \n",
    "> [[\"5\",\"3\",\".\",\".\",\"7\",\".\",\".\",\".\",\".\"]  \n",
    "> ,[\"6\",\".\",\".\",\"1\",\"9\",\"5\",\".\",\".\",\".\"]  \n",
    "> ,[\".\",\"9\",\"8\",\".\",\".\",\".\",\".\",\"6\",\".\"]  \n",
    "> ,[\"8\",\".\",\".\",\".\",\"6\",\".\",\".\",\".\",\"3\"]  \n",
    "> ,[\"4\",\".\",\".\",\"8\",\".\",\"3\",\".\",\".\",\"1\"]  \n",
    "> ,[\"7\",\".\",\".\",\".\",\"2\",\".\",\".\",\".\",\"6\"]  \n",
    "> ,[\".\",\"6\",\".\",\".\",\".\",\".\",\"2\",\"8\",\".\"]  \n",
    "> ,[\".\",\".\",\".\",\"4\",\"1\",\"9\",\".\",\".\",\"5\"]  \n",
    "> ,[\".\",\".\",\".\",\".\",\"8\",\".\",\".\",\"7\",\"9\"]]  \n",
    "> <br>\n",
    "> **Output:** true"
   ]
  },
  {
   "cell_type": "code",
   "execution_count": null,
   "metadata": {},
   "outputs": [],
   "source": [
    "class Solution:\n",
    "    def isValidSudoku(self, board: list[list[str]]) -> bool:\n",
    "        grid_hash = {(row, col): set() for row in range(len(board)) for col in range(len(board[0]))}\n",
    "\n",
    "        for row in range(len(board)):\n",
    "            hash_set = set()\n",
    "            for col in range(len(board[0])):\n",
    "                if board[row][col] != \".\":\n",
    "                    if board[row][col] in hash_set or board[row][col] in grid_hash[(row//3, col//3)]:\n",
    "                        return False\n",
    "                    hash_set.add(board[row][col])\n",
    "                    grid_hash[(row//3, col//3)].add(board[row][col])\n",
    "\n",
    "        for col in range(len(board)):\n",
    "            hash_set = set()\n",
    "            for row in range(len(board[0])):\n",
    "                if board[row][col] != \".\":\n",
    "                    if board[row][col] in hash_set:\n",
    "                        return False\n",
    "                    hash_set.add(board[row][col])\n",
    "        \n",
    "        return True"
   ]
  },
  {
   "cell_type": "markdown",
   "metadata": {},
   "source": [
    "> Time Complexity: $O(n^2)$  \n",
    "<br>  \n",
    "> Runtime: 86 ms &nbsp;&nbsp; Beats **96.35%**  \n",
    "> Memory: 17.2 mb &nbsp;&nbsp; Beats **30.33%**"
   ]
  },
  {
   "cell_type": "markdown",
   "metadata": {},
   "source": []
  }
 ],
 "metadata": {
  "language_info": {
   "name": "python"
  }
 },
 "nbformat": 4,
 "nbformat_minor": 2
}
