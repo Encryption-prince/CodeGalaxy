{
 "cells": [
  {
   "cell_type": "markdown",
   "metadata": {},
   "source": [
    "### 125. Valid Palindrome\n",
    "\n",
    "A phrase is a *palindrome* if, after converting all uppercase letters into lowercase letters and removing all non-alphanumeric characters, it reads the same forward and backward. Alphanumeric characters include letters and numbers.\n",
    "\n",
    "Given a string `s`, return `true` if it is a palindrome, or `false` otherwise.\n",
    "\n",
    "**Example 1:**  \n",
    "> **Input:** s = \"A man, a plan, a canal: Panama\"  \n",
    "> **Output:** true  \n",
    "> **Explanation:** \"amanaplanacanalpanama\" is a palindrome.\n",
    "\n",
    "**Example 2:**  \n",
    "> **Input:** s = \"race a car\"  \n",
    "> **Output:** false  \n",
    "> **Explanation:** \"raceacar\" is not a palindrome.\n",
    "\n",
    "**Example 3:**  \n",
    "> **Input:** s = \" \"  \n",
    "> **Output:** true  \n",
    "> **Explanation:** s is an empty string \"\" after removing non-alphanumeric characters. Since an empty string reads the same forward and backward, it is a palindrome.\n"
   ]
  },
  {
   "cell_type": "code",
   "execution_count": null,
   "metadata": {},
   "outputs": [],
   "source": [
    "class Solution:\n",
    "    def isPalindrome(self, s: str) -> bool:\n",
    "        s_formatted = \"\"\n",
    "        for char in s:\n",
    "            if char.isalnum():\n",
    "                s_formatted += char.lower()\n",
    "\n",
    "        front, rear = 0, len(s_formatted)-1\n",
    "\n",
    "        while front < rear:\n",
    "            if s_formatted[front] != s_formatted[rear]:\n",
    "                return False\n",
    "            front+=1\n",
    "            rear-=1\n",
    "        return True"
   ]
  },
  {
   "cell_type": "markdown",
   "metadata": {},
   "source": [
    "> Time Complexity: $O(n)$  \n",
    "<br>\n",
    "> Runtime: 41 ms &nbsp;&nbsp; Beats **91.3%**  \n",
    "> Memory: 17.68 mb &nbsp;&nbsp; Beats **55.9%**"
   ]
  }
 ],
 "metadata": {
  "language_info": {
   "name": "python"
  }
 },
 "nbformat": 4,
 "nbformat_minor": 2
}
