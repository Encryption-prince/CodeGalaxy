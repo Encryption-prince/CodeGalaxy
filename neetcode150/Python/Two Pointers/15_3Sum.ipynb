{
 "cells": [
  {
   "cell_type": "markdown",
   "metadata": {},
   "source": [
    "### 13. 3Sum\n",
    "\n",
    "Given an integer array `nums`, return all the triplets `[nums[i], nums[j], nums[k]]` such that `i != j`, `i != k`, and `j != k`, and `nums[i] + nums[j] + nums[k] == 0`.\n",
    "\n",
    "Notice that the solution set must not contain duplicate triplets.\n",
    "\n",
    "**Example 1:**\n",
    ">**Input:** nums = [-1,0,1,2,-1,-4]  \n",
    ">**Output:** [[-1,-1,2],[-1,0,1]]  \n",
    ">**Explanation:**   \n",
    "nums[0] + nums[1] + nums[2] = (-1) + 0 + 1 = 0.\n",
    "nums[1] + nums[2] + nums[4] = 0 + 1 + (-1) = 0.\n",
    "nums[0] + nums[3] + nums[4] = (-1) + 2 + (-1) = 0.\n",
    "The distinct triplets are [-1,0,1] and [-1,-1,2].\n",
    "Notice that the order of the output and the order of the triplets does not matter.\n",
    "\n",
    "**Example 2:**\n",
    ">**Input:** nums = [0,1,1]  \n",
    ">**Output:** []  \n",
    ">**Explanation:** The only possible triplet does not sum up to 0.  \n",
    "\n",
    "**Example 3:**\n",
    ">**Input:** nums = [0,0,0]  \n",
    ">**Output:** [[0,0,0]]  \n",
    ">**Explanation:** The only possible triplet sums up to 0.\n"
   ]
  },
  {
   "cell_type": "markdown",
   "metadata": {},
   "source": [
    "##### Solution 1: Using HashMap and Two Pointers"
   ]
  },
  {
   "cell_type": "code",
   "execution_count": null,
   "metadata": {},
   "outputs": [],
   "source": [
    "class Solution:\n",
    "    def threeSum(self, nums: list[int]) -> list[list[int]]:\n",
    "        nums.sort()\n",
    "        hash_map = {}\n",
    "\n",
    "        for num in nums:\n",
    "            hash_map[num] = 1 + hash_map.get(num, 0)\n",
    "\n",
    "        res = []\n",
    "        indx_a = 0\n",
    "        while indx_a < len(nums)-2:\n",
    "            indx_b = indx_a+1\n",
    "            indx_c = len(nums)-1\n",
    "            while indx_b < indx_c:\n",
    "                if nums[indx_b]+nums[indx_c] == -nums[indx_a]:\n",
    "                    res.append([nums[indx_a], nums[indx_b], nums[indx_c]])\n",
    "                    indx_b += 1\n",
    "                    while nums[indx_b] == nums[indx_b-1] and indx_b<indx_c:\n",
    "                        indx_b += 1\n",
    "                elif nums[indx_b]+nums[indx_c] < -nums[indx_a]:\n",
    "                    indx_b += 1\n",
    "                else:\n",
    "                    indx_c -= 1\n",
    "            indx_a += hash_map[nums[indx_a]]\n",
    "        \n",
    "        return res\n"
   ]
  },
  {
   "cell_type": "markdown",
   "metadata": {},
   "source": [
    "> Time Complexity: $O(n^2)$  \n",
    "> Space Complexity: $O(n)$  \n",
    "<br>\n",
    "> Runtime: 904 ms &nbsp;&nbsp; Beats **64.26%**  \n",
    "> Memory: 21.81 mb &nbsp;&nbsp; Beats **13.01**"
   ]
  },
  {
   "cell_type": "markdown",
   "metadata": {},
   "source": [
    "##### Solution 2: Separating negative and positive nnumbers"
   ]
  },
  {
   "cell_type": "code",
   "execution_count": null,
   "metadata": {},
   "outputs": [],
   "source": [
    "class Solution:\n",
    "    def threeSum(self, nums: list[int]) -> list[list[int]]:\n",
    "        res = set()\n",
    "\n",
    "        n, p, z = [], [], []\n",
    "        for num in nums:\n",
    "            if num > 0:\n",
    "                p.append(num)\n",
    "            elif num < 0: \n",
    "                n.append(num)\n",
    "            else:\n",
    "                z.append(num)\n",
    "\n",
    "        N, P = set(n), set(p)\n",
    "\n",
    "        if z:\n",
    "            for num in P:\n",
    "                if -1*num in N:\n",
    "                    res.add((-1*num, 0, num))\n",
    "\n",
    "        if len(z) >= 3:\n",
    "            res.add((0,0,0))\n",
    "\n",
    "        for i in range(len(n)):\n",
    "            for j in range(i+1,len(n)):\n",
    "                target = -1*(n[i]+n[j])\n",
    "                if target in P:\n",
    "                    res.add(tuple(sorted([n[i],n[j],target])))\n",
    "\n",
    "        for i in range(len(p)):\n",
    "            for j in range(i+1,len(p)):\n",
    "                target = -1*(p[i]+p[j])\n",
    "                if target in N:\n",
    "                    res.add(tuple(sorted([p[i],p[j],target])))\n",
    "\n",
    "        return res"
   ]
  },
  {
   "cell_type": "markdown",
   "metadata": {},
   "source": [
    "> Time Complexity: $O(n^2)$  \n",
    "> Space Complexity: $O(n)$  \n",
    "<br>\n",
    "> Runtime: 529 ms &nbsp;&nbsp; Beats **95.91%**  \n",
    "> Memory: 21.90 mb &nbsp;&nbsp; Beats **13.01%**"
   ]
  }
 ],
 "metadata": {
  "language_info": {
   "name": "python"
  }
 },
 "nbformat": 4,
 "nbformat_minor": 2
}
