{
 "cells": [
  {
   "cell_type": "markdown",
   "metadata": {},
   "source": [
    "### 167. Two Sum II - Input Array Is Sorted\n",
    "\n",
    "Given a **1-indexed** array of integers `numbers` that is already **sorted in non-decreasing order**, find two numbers such that they add up to a specific target number. Let these two numbers be `numbers[index1]` and `numbers[index2]` where `1 <= index1 < index2 <= numbers.length`.\n",
    "\n",
    "Return *the indices of the two numbers*, `index1` and `index2`, **added by one** *as an integer array `[index1, index2]` of length 2*.\n",
    "\n",
    "The tests are generated such that there is **exactly one solution**. You **may not** use the same element twice.\n",
    "\n",
    "Your solution must use only **constant extra space**.\n",
    "\n",
    "<br>\n",
    "\n",
    "**Example 1:**\n",
    "> **Input:** numbers = [2,7,11,15], target = 9  \n",
    "> **Output:** [1,2]  \n",
    "> **Explanation:** The sum of 2 and 7 is 9. Therefore, index1 = 1, index2 = 2. We return [1, 2].  \n",
    "\n",
    "**Example 2:**\n",
    "> **Input:** numbers = [2,3,4], target = 6  \n",
    "> **Output:** [1,3]  \n",
    "> **Explanation:** The sum of 2 and 4 is 6. Therefore index1 = 1, index2 = 3. We return [1, 3].  \n",
    "\n",
    "**Example 3:**\n",
    "> **Input:** numbers = [-1,0], target = -1  \n",
    "> **Output:** [1,2]  \n",
    "> **Explanation:** The sum of -1 and 0 is -1. Therefore index1 = 1, index2 = 2. We return [1, 2].\n"
   ]
  },
  {
   "cell_type": "code",
   "execution_count": null,
   "metadata": {},
   "outputs": [],
   "source": [
    "class Solution:\n",
    "    def twoSum(self, numbers: list[int], target: int) -> list[int]:\n",
    "        indx1, indx2 = 0, len(numbers)-1\n",
    "\n",
    "        while indx1 != indx2:\n",
    "            if numbers[indx1] + numbers[indx2] == target:\n",
    "                return indx1+1, indx2+1\n",
    "            if numbers[indx1] + numbers[indx2] < target:\n",
    "                indx1+=1\n",
    "            else:\n",
    "                indx2-=1"
   ]
  },
  {
   "cell_type": "markdown",
   "metadata": {},
   "source": [
    "> Time Complexity: $O(n)$  \n",
    "> Space Complexity: $O(1)$  \n",
    "<br>\n",
    "> Runtime: 95 ms &nbsp;&nbsp; Beats **98.82%**  \n",
    "> Memory: 18.11 mb &nbsp;&nbsp; Beats **48.98%**"
   ]
  }
 ],
 "metadata": {
  "language_info": {
   "name": "python"
  }
 },
 "nbformat": 4,
 "nbformat_minor": 2
}
