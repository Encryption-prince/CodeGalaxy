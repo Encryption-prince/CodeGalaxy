{
 "cells": [
  {
   "cell_type": "markdown",
   "metadata": {},
   "source": [
    "### 42. Trapping Rain Water\n",
    "\n",
    "Given `n` non-negative integers representing an elevation map where the width of each bar is `1`, compute how much water it can trap after raining.\n",
    "\n",
    "**Example 1:**  \n",
    "> **Input:** height = [0,1,0,2,1,0,1,3,2,1,2,1]   \n",
    "> **Output:** 6   \n",
    "> **Explanation:** The above elevation map (black section) is represented by array [0,1,0,2,1,0,1,3,2,1,2,1]. In this case, 6 units of rain water (blue section) are being trapped.  \n",
    "\n",
    "**Example 2:**  \n",
    "> **Input:** height = [4,2,0,3,2,5]    \n",
    "> **Output:** 9  \n"
   ]
  },
  {
   "cell_type": "markdown",
   "metadata": {},
   "source": [
    "### Solution 1:\n",
    "\n",
    "1. We create two arrays `maxLeft` and `maxRight` that gives the maximum height to the left and right of an element respectively.\n",
    "2. We create an array `minLR` to store the minimum height from the `maxLeft` and `maxRight` arrays for each element.\n",
    "3. Go through the `minLR` array and get rainwater stored for that element using the formula `(minLR - height)` for each element. The **result is positive or 0**."
   ]
  },
  {
   "cell_type": "code",
   "execution_count": null,
   "metadata": {},
   "outputs": [],
   "source": [
    "class Solution:\n",
    "    def trap(self, height: list[int]) -> int:\n",
    "        n = len(height)\n",
    "        maxLeft = [0] * n\n",
    "        maxRight = [0] * n\n",
    "\n",
    "        for i in range(1, n):\n",
    "            maxLeft[i] = max(height[i-1], maxLeft[i-1])\n",
    "\n",
    "        for i in range(n-2, -1, -1):\n",
    "            maxRight[i] = max(height[i+1], maxRight[i+1])\n",
    "\n",
    "        minLR = []\n",
    "        for i in range(n):\n",
    "            minLR.append(min(maxLeft[i], maxRight[i]))\n",
    "\n",
    "        water = 0\n",
    "        for i in range(n):\n",
    "            water += max(minLR[i]  - height[i], 0)\n",
    "        \n",
    "        return water"
   ]
  },
  {
   "cell_type": "markdown",
   "metadata": {},
   "source": [
    "> Time Complexity: $O(n)$  \n",
    "> Space Complexity: $O(n)$  \n",
    "<br>\n",
    "> Runtime: 100 ms &nbsp;&nbsp; Beats **65.9%**  \n",
    "> Memory: 18.66 mb &nbsp;&nbsp; Beats **16.66%**"
   ]
  },
  {
   "cell_type": "markdown",
   "metadata": {},
   "source": [
    "### Solution 2:\n",
    "\n",
    "#### Two Pointer Approach\n",
    "\n",
    "1. Use two pointers `L` and `R` to keep track of `maxLeft` and `maxRight` that denotes maximum height from left and right of the `height` array.\n",
    "2. We *shift the pointer which has a smaller max value*.\n",
    "3. Water trapped for `L` is calculated as `maxLeft - height[L]`. `maxLeft` is updated with `max(maxLeft, height[L])`.\n",
    "4. Water trapped for `R` is calculated as `maxRight - height[R]`. `maxRight` is updated with `max(maxRight, height[R])`."
   ]
  },
  {
   "cell_type": "code",
   "execution_count": null,
   "metadata": {},
   "outputs": [],
   "source": [
    "class Solution:\n",
    "    def trap(self, height: list[int]) -> int:\n",
    "        n = len(height)\n",
    "        water = 0\n",
    "\n",
    "        L = 0\n",
    "        R = n-1\n",
    "        maxLeft = height[L]\n",
    "        maxRight = height[R]\n",
    "\n",
    "        while L<R:\n",
    "            if maxLeft <= maxRight:\n",
    "                L+=1\n",
    "                water += max(maxLeft - height[L], 0)\n",
    "                maxLeft = max(maxLeft, height[L])\n",
    "            else:\n",
    "                R-=1\n",
    "                water += max(maxRight - height[R], 0)\n",
    "                maxRight = max(maxRight, height[R])\n",
    "        \n",
    "        return water"
   ]
  },
  {
   "cell_type": "markdown",
   "metadata": {},
   "source": [
    "> Time Complexity: $O(n)$  \n",
    "> Space Complexity: $O(1)$  \n",
    "<br>\n",
    "> Runtime: 100 ms &nbsp;&nbsp; Beats **65.9%**  \n",
    "> Memory: 18.5 mb &nbsp;&nbsp; Beats **39.3%**"
   ]
  },
  {
   "cell_type": "markdown",
   "metadata": {},
   "source": []
  }
 ],
 "metadata": {
  "kernelspec": {
   "display_name": "Python 3",
   "language": "python",
   "name": "python3"
  },
  "language_info": {
   "codemirror_mode": {
    "name": "ipython",
    "version": 3
   },
   "file_extension": ".py",
   "mimetype": "text/x-python",
   "name": "python",
   "nbconvert_exporter": "python",
   "pygments_lexer": "ipython3",
   "version": "3.10.7"
  }
 },
 "nbformat": 4,
 "nbformat_minor": 2
}
