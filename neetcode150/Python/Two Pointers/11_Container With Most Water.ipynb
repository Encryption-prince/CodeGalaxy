{
 "cells": [
  {
   "cell_type": "markdown",
   "metadata": {},
   "source": [
    "### 11. Container With Most Water\n",
    "\n",
    "You are given an integer array 'height' of length 'n'. There are 'n' vertical lines drawn such that the two endpoints of the 'ith' line are '(i, 0)' and '(i, height[i])'.\n",
    "\n",
    "Find two lines that together with the x-axis form a container, such that the container contains the most water.\n",
    "\n",
    "*Return the maximum amount of water a container can store.*\n",
    "\n",
    "**Notice** that you may not slant the container.\n",
    "\n",
    "**Example 1:**\n",
    ">**Input:** height = [1,8,6,2,5,4,8,3,7]  \n",
    ">**Output:** 49 \n",
    ">**Explanation:** The above vertical lines are represented by array [1,8,6,2,5,4,8,3,7]. In this case, the max area of water (blue section) the container can contain is 49.\n",
    "\n",
    "**Example 2:**\n",
    ">**Input:** height = [1,1]\n",
    ">**Output:** 1  \n"
   ]
  },
  {
   "cell_type": "code",
   "execution_count": null,
   "metadata": {},
   "outputs": [],
   "source": [
    "class Solution:\n",
    "    def maxArea(self, height: list[int]) -> int:\n",
    "        max_area = 0\n",
    "        front_idx, rear_idx = 0, len(height)-1\n",
    "\n",
    "        while front_idx < rear_idx:\n",
    "            area = min(height[front_idx], height[rear_idx])*(rear_idx-front_idx)\n",
    "            if area > max_area:\n",
    "                max_area = area\n",
    "            \n",
    "            if height[front_idx] <= height[rear_idx]:\n",
    "                front_idx+=1\n",
    "            else:\n",
    "                rear_idx-=1\n",
    "        \n",
    "        return max_area"
   ]
  },
  {
   "cell_type": "markdown",
   "metadata": {},
   "source": [
    "> Time Complexity: $O(n)$  \n",
    "> Space Complexity: $O(1)$  \n",
    "<br>\n",
    "> Runtime: 482 ms &nbsp;&nbsp; Beats **95.07%**  \n",
    "> Memory: 29.52 mb &nbsp;&nbsp; Beats **76.89%**"
   ]
  }
 ],
 "metadata": {
  "language_info": {
   "name": "python"
  }
 },
 "nbformat": 4,
 "nbformat_minor": 2
}
