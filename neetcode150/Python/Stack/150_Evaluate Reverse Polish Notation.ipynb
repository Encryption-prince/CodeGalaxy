{
 "cells": [
  {
   "cell_type": "markdown",
   "metadata": {},
   "source": [
    "### 150. Evaluate Reverse Polish Notation\n",
    "\n",
    "You are given an array of strings `tokens` that represents an arithmetic expression in a Reverse Polish Notation.\n",
    "\n",
    "Evaluate the expression. Return an integer that represents the value of the expression.\n",
    "\n",
    "Note that:\n",
    "\n",
    "- The valid operators are '+', '-', '*', and '/'.\n",
    "- Each operand may be an integer or another expression.\n",
    "- The division between two integers always truncates toward zero.\n",
    "- There will not be any division by zero.\n",
    "- The input represents a valid arithmetic expression in a reverse polish notation.\n",
    "- The answer and all the intermediate calculations can be represented in a 32-bit integer.\n",
    "\n",
    "\n",
    "**Example 1:**\n",
    ">**Input:** tokens = [\"2\",\"1\",\"+\",\"3\",\"*\"]  \n",
    ">  \n",
    ">**Output:** 9  \n",
    "\n",
    "<br>\n",
    "\n",
    "**Example 2:**\n",
    ">**Input:** tokens = [\"10\",\"6\",\"9\",\"3\",\"+\",\"-11\",\"*\",\"/\",\"*\",\"17\",\"+\",\"5\",\"+\"] \n",
    ">  \n",
    ">**Output:** 22    \n"
   ]
  },
  {
   "cell_type": "markdown",
   "metadata": {},
   "source": [
    "### Solution"
   ]
  },
  {
   "cell_type": "code",
   "execution_count": null,
   "metadata": {},
   "outputs": [],
   "source": [
    "class Solution:\n",
    "    def evalRPN(self, tokens: list[str]) -> int:\n",
    "        callStack = []\n",
    "\n",
    "        for index, symbol in enumerate(tokens):\n",
    "            match symbol:\n",
    "                case \"+\":\n",
    "                    res = callStack.pop() + callStack.pop()\n",
    "                case \"-\":\n",
    "                    num1 = callStack.pop()\n",
    "                    num2 = callStack.pop()\n",
    "                    res = int(num2 - num1)\n",
    "                case \"*\":\n",
    "                    res = callStack.pop() * callStack.pop()\n",
    "                case \"/\":\n",
    "                    num1 = callStack.pop()\n",
    "                    num2 = callStack.pop()\n",
    "                    res = int(num2 / num1)\n",
    "                case _:\n",
    "                    res = int(symbol)\n",
    "            callStack.append(res)\n",
    "\n",
    "        return callStack.pop()"
   ]
  },
  {
   "cell_type": "markdown",
   "metadata": {},
   "source": [
    "> Runtime: 53 ms &nbsp;&nbsp; Beats **98.56%**  \n",
    "> Memory: 17.12 mb &nbsp;&nbsp; Beats **33.05%**"
   ]
  },
  {
   "cell_type": "markdown",
   "metadata": {},
   "source": []
  }
 ],
 "metadata": {
  "language_info": {
   "name": "python"
  }
 },
 "nbformat": 4,
 "nbformat_minor": 2
}
